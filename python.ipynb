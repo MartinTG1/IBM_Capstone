#This notebook will be mainly used fir Capstone Project
import pandas as pd
import numpy as np

print("Hello Capstone Project Course!")

